{
 "cells": [
  {
   "cell_type": "markdown",
   "metadata": {},
   "source": [
    "选择文件"
   ]
  },
  {
   "cell_type": "code",
   "execution_count": null,
   "metadata": {},
   "outputs": [],
   "source": [
    "%pip install requests pandas lxml"
   ]
  },
  {
   "cell_type": "code",
   "execution_count": null,
   "metadata": {},
   "outputs": [],
   "source": [
    "import requests\n",
    "import pandas as pd\n",
    "from lxml import html\n",
    "\n",
    "# data = pd.read_excel('G:/科研项目/物性预测AI+/CNN机器学习方法/处理后训练数据.xlsx')\n",
    "# cas_numbers = data[\"CAS NO.\"].astype(str).tolist()\n",
    "\n",
    "UserAgent = 'Mozilla/5.0 (Windows NT 10.0; Win64; x64) AppleWebKit/537.36 (KHTML, like Gecko) Chrome/124.0.0.0 Safari/537.36'\n",
    "getIdURl = 'https://dippr.aiche.org/SampleDb/_ExactNameSearchResults?Length=9'\n",
    "getDetailUrl = 'https://dippr.aiche.org/SampleDb/_PropertyConstants'\n",
    "Cookie = 'ASP.NET_SessionId=ylpopvdxd4mtyva1ow31n5nm; __RequestVerificationToken=uxHrHPtnCo2nr4wtv5JGowHkBBkIRY4jkl5QpHyUVc6DdC--FyHUNFXt-FuQv6RFh9k_ZNcwEb-hoG-rfp39n_RavKzjUxrqvUKETgAniPo1; .AspNet.ApplicationCookie=szljYXR4Fkyn_8-CdmOFvKvqszGFOamVeNqdlic22KmNTzDGFifPUJ9QPPFctoWDSCKqwOfGLOQVR_Cqovp8Bk-HuzehbRbL547KiMhkbRDA4DgqZsJZxI6oM4nZgRZhHJcbas3wWpivem4wxkseKV2cQ666NkGEPmkZcovmayXOFn7wWxpt5z_g3HiPAYLMDxLZWpnb2QvQpHTJ5igXoCRiYabQMxKOHuEcrm3xdMjbCWbU7t2nbo9-EH4I6yEt5ndgrEP8aHGdp7DdHjiVENLMaHMSAL8DRtg-IkNpejGUeI101Ayc0Whb-PHOSN4eA1hZxQQuKoVMINFHoBIGVPEBo834tnOUrmFc25yZXZ5oCvxy_mFtbAk_dosJ6fniQ2sorZm8ft0FVfxGTWY7TJaAoPuiktQLVjZen68QqwC3tSwj9WcrejJCMOAiMbqqY63OV_lsgY_0y5dxDqrJZKQ9Dm_2uD3BEHPDRcabel5NVQ2gfXrFIe_Pe2Mw3LIQCUwku0WDZ6dhEpLSvdqp7A'\n",
    "\n",
    "headers = {\n",
    "    'User-Agent': UserAgent,\n",
    "    'Cookie': Cookie,\n",
    "    'Content-Type':'application/x-www-form-urlencoded;charset=UTF-8'\n",
    "}\n",
    "\n",
    "http = requests.session()\n",
    "http.headers.clear()\n",
    "http.headers.update(headers)\n",
    "\n",
    "# 循环\n",
    "cas_number = '74-82-8'\n",
    "data = {'SearchString': cas_number, 'X-Requested-With': 'X-Requested-With'}\n",
    "response = http.post(getIdURl, data = data)\n",
    "\n",
    "print(response.text)\n",
    "parsed_html = html.fromstring(response.text)\n",
    "\n",
    "# 提取链接\n",
    "link = parsed_html.xpath('//tbody/tr/@value')\n",
    "id = link[0]\n",
    "\n",
    "response = http.post(getDetailUrl, data = {'selectedChemId': id})\n",
    "\n",
    "parsed_html = html.fromstring(response.text)\n",
    "table = parsed_html.xpath(\"//div[@class='row']/div/table\")\n",
    "print(table)\n",
    "for row in table:\n",
    "    columns = row.xpath(\".//th\")\n",
    "    if columns[0].text == 'Property' :\n",
    "        for column in columns:\n",
    "            print(column.text)\n",
    "            columntrs = row.xpath(\".//tr\")\n",
    "            for columntr in columntrs:\n",
    "                columntds = columntr.xpath(\".//td\")\n",
    "                for columntd in columntds:\n",
    "                    if columntd.xpath(\".//a\") :\n",
    "                        print(columntd.xpath(\".//a\")[0].text)\n",
    "                    else:\n",
    "                        print(columntd.text)\n"
   ]
  }
 ],
 "metadata": {
  "interpreter": {
   "hash": "2e379b3e3b6b671fd207c558b7378d87828f4cf8940cd2aa78b8a08f3ebd24ba"
  },
  "kernelspec": {
   "display_name": "Python 3.9.7 64-bit",
   "name": "python3"
  },
  "language_info": {
   "codemirror_mode": {
    "name": "ipython",
    "version": 3
   },
   "file_extension": ".py",
   "mimetype": "text/x-python",
   "name": "python",
   "nbconvert_exporter": "python",
   "pygments_lexer": "ipython3",
   "version": "3.12.0"
  }
 },
 "nbformat": 4,
 "nbformat_minor": 2
}
