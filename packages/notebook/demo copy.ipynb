{
 "cells": [
  {
   "cell_type": "markdown",
   "metadata": {},
   "source": [
    "选择文件"
   ]
  },
  {
   "cell_type": "code",
   "execution_count": null,
   "metadata": {},
   "outputs": [],
   "source": [
    "%pip install requests pandas lxml"
   ]
  },
  {
   "cell_type": "code",
   "execution_count": null,
   "metadata": {},
   "outputs": [],
   "source": [
    "import requests\n",
    "from requests.adapters import HTTPAdapter\n",
    "from requests.packages.urllib3.util.retry import Retry\n",
    "import pandas as pd\n",
    "from lxml import html\n",
    "# data = pd.read_excel('G:/科研项目/物性预测AI+/CNN机器学习方法/处理后训练数据.xlsx')\n",
    "# cas_numbers = data[\"CAS NO.\"].astype(str).tolist()\n",
    "\n",
    "UserAgent = 'Mozilla/5.0 (Windows NT 10.0; Win64; x64) AppleWebKit/537.36 (KHTML, like Gecko) Chrome/124.0.0.0 Safari/537.36'\n",
    "getIdURl = 'https://dippr.aiche.org/SampleDb/_ExactNameSearchResults?Length=9'\n",
    "getDetailUrl = 'https://dippr.aiche.org/SampleDb/_PropertyConstants'\n",
    "Cookie = '''\n",
    "ASP.NET_SessionId=obevenxhxotox0ski4xlykue; __RequestVerificationToken=UmGE1id3pX4kF_wHHGV4DJ33b_jPbZCaPbXwtaIeainYXtyzHk-hKNcUoPmrq0s11rVTdPFENdILzBu4H-kViCyTPRHNtD5iVT93BRxoDxI1; _ga=GA1.2.419988823.1716873435; _gid=GA1.2.24280143.1716873435; .AspNet.ApplicationCookie=avH-CnnwhQ3h9E2Zr6IkVaDLRkaesntQvFIIsZtDM393c2dU3rDarY6uvD4Jxcze2Q6oRFRZ5qTJFLztYdBzLELB4Q1IZTjvpqkRDYgRCddXgGWNe92sgJTRHN74sv5nKnMshXEncpBfTAHwl-XtopA20nAIieWMp1_QQoFp-DCD-Lrc1bHsyG8Dbd6TD8zDaUxQyuBSAKfxEYCq3zblZXVLSTHuFmFGLDzmdRx8QsQesKTZQY-8xiLKhtg_VX2BP32t2zYLax81oEb1IDyOnS1VgkO3A-c_kChqr1WS-U-TvCbaLfH4-3bGBrLHfrxAWY4l5oVlww1650bzqDnTpnTudgD4UcSjoVTm88KvvUCf86BP5Q0HpPQ66GzBCanI5ArclnBkdmZT5JycOjdVm3MN13d9-iWhOkl69Tq7dQKX0vmsTyc6p190zS0qEImWOhd6tMKi0-lqxGqXME_HhBRPJAXHxFM_UMVs9boN8KasDypaDSHZmd0_eaJG484mxU7yvNk2xhLJ_wqECp75aQ; _gat=1; _ga_06X59CFKZY=GS1.2.1716892172.4.1.1716892366.60.0.0\n",
    "'''\n",
    "headers = { 'User-Agent': UserAgent, 'Cookie': Cookie , 'Content-Type': 'application/x-www-form-urlencoded; charset=UTF-8'}\n",
    "\n",
    "http = requests.session()\n",
    "http.headers.clear()\n",
    "http.headers.update(headers)\n",
    "\n",
    "# 循环\n",
    "cas_number = '74-82-8'\n",
    "data = {'SearchString': cas_number, 'X-Requested-With': 'X-Requested-With'}\n",
    "response = http.post(getIdURl, data = data)\n",
    "print(response.text)\n",
    "parsed_html = html.fromstring(response.text)\n",
    "\n",
    "# 提取链接\n",
    "link = parsed_html.xpath('//tbody/tr/@value')\n",
    "print(link[0])\n",
    "id = link[0]\n",
    "\n",
    "response = requests.post(getDetailUrl, data = {'selectedChemId': id})\n",
    "\n",
    "\n",
    "parsed_html = html.fromstring(response.text)\n",
    "table = parsed_html.xpath(\"//div[@class='row']/div/table\")\n",
    "print(table)\n",
    "for row in table:\n",
    "    columns = row.xpath(\".//th\")\n",
    "    if columns[0].text == 'Property' :\n",
    "        for column in columns:\n",
    "            print(column.text)\n",
    "\n",
    "        columntrs = row.xpath(\".//tr\")\n",
    "        for columntr in columntrs:\n",
    "            columntds = columntr.xpath(\".//td\")\n",
    "            for columntd in columntds:\n",
    "                if columntd.xpath(\".//a\") :\n",
    "                    print(columntd.xpath(\".//a\")[0].text)\n",
    "                else:\n",
    "                    print(columntd.text)\n"
   ]
  }
 ],
 "metadata": {
  "interpreter": {
   "hash": "2e379b3e3b6b671fd207c558b7378d87828f4cf8940cd2aa78b8a08f3ebd24ba"
  },
  "kernelspec": {
   "display_name": "Python 3.9.7 64-bit",
   "name": "python3"
  },
  "language_info": {
   "codemirror_mode": {
    "name": "ipython",
    "version": 3
   },
   "file_extension": ".py",
   "mimetype": "text/x-python",
   "name": "python",
   "nbconvert_exporter": "python",
   "pygments_lexer": "ipython3",
   "version": "3.12.0"
  }
 },
 "nbformat": 4,
 "nbformat_minor": 2
}
